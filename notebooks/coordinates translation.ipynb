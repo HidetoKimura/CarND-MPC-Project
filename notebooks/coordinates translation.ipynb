{
 "cells": [
  {
   "cell_type": "code",
   "execution_count": 1,
   "metadata": {
    "collapsed": true
   },
   "outputs": [],
   "source": [
    "import pandas as pd\n",
    "import math\n",
    "import numpy as np\n",
    "import matplotlib.pyplot as plt\n",
    "from ipywidgets import interact, interactive, fixed\n",
    "%matplotlib inline\n",
    "plt.rcParams[\"figure.figsize\"] = [10, 7]"
   ]
  },
  {
   "cell_type": "code",
   "execution_count": 2,
   "metadata": {
    "collapsed": true
   },
   "outputs": [],
   "source": [
    "def map_to_car_space(v_x, v_y, v_theta, mp_x, mp_y):\n",
    "    x = mp_x -v_x\n",
    "    y = mp_y - v_y\n",
    "    v_theta = -v_theta\n",
    "    cs_x = x * math.cos(v_theta) - y * math.sin(v_theta) \n",
    "    cs_y = x * math.sin(v_theta) + y * math.cos(v_theta)\n",
    "    return [cs_x,cs_y]"
   ]
  },
  {
   "cell_type": "code",
   "execution_count": 3,
   "metadata": {
    "collapsed": true
   },
   "outputs": [],
   "source": [
    "ptsx=np.array([-32.16173,-43.49173,-61.09,-78.29172,-93.05002,-107.7717])\n",
    "ptsy=np.array([113.361,105.941,92.88499,78.73102,65.34102,50.57938])"
   ]
  },
  {
   "cell_type": "code",
   "execution_count": 4,
   "metadata": {
    "collapsed": true
   },
   "outputs": [],
   "source": [
    "with open ('../lake_track_waypoints.csv') as f:\n",
    "    map_df = pd.read_table(f, sep=',', header=0, names=['x','y'], lineterminator='\\n')"
   ]
  },
  {
   "cell_type": "code",
   "execution_count": 5,
   "metadata": {},
   "outputs": [
    {
     "name": "stdout",
     "output_type": "stream",
     "text": [
      "3.733651 3.733651\n"
     ]
    }
   ],
   "source": [
    "x = -40.62\n",
    "y = 108.73\n",
    "psi = 3.733651\n",
    "v = 0\n",
    "\n",
    "upsi=(psi-math.pi*2) % (2 * math.pi)\n",
    "upsi=psi\n",
    "\n",
    "dx=math.cos(upsi)*10\n",
    "dy=math.sin(upsi)*10\n",
    "print(psi,upsi)"
   ]
  },
  {
   "cell_type": "code",
   "execution_count": 6,
   "metadata": {},
   "outputs": [
    {
     "data": {
      "text/plain": [
       "[<matplotlib.lines.Line2D at 0x11320a3c8>]"
      ]
     },
     "execution_count": 6,
     "metadata": {},
     "output_type": "execute_result"
    },
    {
     "data": {
      "image/png": "[encoded data removed]",
      "text/plain": [
       "<matplotlib.figure.Figure at 0x110c29b38>"
      ]
     },
     "metadata": {},
     "output_type": "display_data"
    }
   ],
   "source": [
    "# plot waypoints and vehicle direction in map space\n",
    "plt.figure()\n",
    "plt.plot(ptsx,ptsy,'bx')\n",
    "plt.arrow(x,y,dx,dy,fc=\"k\", ec=\"k\",linewidth=2,head_width=5, head_length=5)\n",
    "plt.plot(x,y,'go')\n",
    "plt.plot(map_df.x,map_df.y,linewidth=.5,color='m')"
   ]
  },
  {
   "cell_type": "code",
   "execution_count": 7,
   "metadata": {
    "collapsed": true
   },
   "outputs": [],
   "source": [
    "wpts=np.dstack((ptsx,ptsy))[0]"
   ]
  },
  {
   "cell_type": "code",
   "execution_count": 8,
   "metadata": {
    "collapsed": true
   },
   "outputs": [],
   "source": [
    "wcs=[map_to_car_space(x,y,psi,pt[0],pt[1]) for pt in wpts.tolist() ]"
   ]
  },
  {
   "cell_type": "code",
   "execution_count": 9,
   "metadata": {
    "collapsed": true
   },
   "outputs": [],
   "source": [
    "wcsx=[pt[0] for pt in wcs]\n",
    "wcsy=[pt[1] for pt in wcs]"
   ]
  },
  {
   "cell_type": "code",
   "execution_count": 15,
   "metadata": {},
   "outputs": [
    {
     "data": {
      "text/plain": [
       "[<matplotlib.lines.Line2D at 0x113c262b0>]"
      ]
     },
     "execution_count": 15,
     "metadata": {},
     "output_type": "execute_result"
    },
    {
     "data": {
      "image/png": "[encoded data removed]",
      "text/plain": [
       "<matplotlib.figure.Figure at 0x113ac0438>"
      ]
     },
     "metadata": {},
     "output_type": "display_data"
    }
   ],
   "source": [
    "plt.figure()\n",
    "\n",
    "plt.xlim(-10,100)\n",
    "plt.ylim(-10,100)\n",
    "plt.plot(wcsx,wcsy,'bx')\n",
    "plt.arrow(0,0,10,0,fc=\"k\", ec=\"k\",linewidth=2,head_width=3, head_length=1)\n",
    "plt.plot(0,0,'go')"
   ]
  },
  {
   "cell_type": "code",
   "execution_count": null,
   "metadata": {
    "collapsed": true
   },
   "outputs": [],
   "source": []
  }
 ],
 "metadata": {
  "kernelspec": {
   "display_name": "Python 3",
   "language": "python",
   "name": "python3"
  },
  "language_info": {
   "codemirror_mode": {
    "name": "ipython",
    "version": 3
   },
   "file_extension": ".py",
   "mimetype": "text/x-python",
   "name": "python",
   "nbconvert_exporter": "python",
   "pygments_lexer": "ipython3",
   "version": "3.6.1"
  }
 },
 "nbformat": 4,
 "nbformat_minor": 2
}
